{
  "nbformat": 4,
  "nbformat_minor": 0,
  "metadata": {
    "colab": {
      "name": "Ex3.ipynb",
      "provenance": [],
      "collapsed_sections": [
        "0c5NKeibz9m4",
        "4DRvswhK6nnj"
      ]
    },
    "kernelspec": {
      "name": "python3",
      "display_name": "Python 3"
    },
    "accelerator": "GPU"
  },
  "cells": [
    {
      "cell_type": "code",
      "metadata": {
        "id": "B-VWDmzv_Uwy"
      },
      "source": [
        "#-------------------------------------------------------------------------------\n",
        "#Implement a CNN with PyTorch for the CIFAR-10 dataset.\n",
        "#-------------------------------------------------------------------------------"
      ],
      "execution_count": null,
      "outputs": []
    },
    {
      "cell_type": "code",
      "metadata": {
        "id": "rghO_635MI8B"
      },
      "source": [
        "#imports\n",
        "import torch\n",
        "import torchvision\n",
        "import torchvision.transforms as transforms\n",
        "from torch.utils.data import TensorDataset, DataLoader\n",
        " \n",
        "import torch.nn as nn\n",
        "import torch.nn.functional as F\n",
        " \n",
        "import torch.optim as optim\n",
        " \n",
        "import time\n",
        "import datetime\n",
        " \n",
        "import matplotlib.pyplot as plt"
      ],
      "execution_count": null,
      "outputs": []
    },
    {
      "cell_type": "code",
      "metadata": {
        "id": "JfcrIJ9vL9G9",
        "outputId": "7489e38d-b5dd-42a0-c075-269d2194ca18",
        "colab": {
          "base_uri": "https://localhost:8080/",
          "height": 51
        }
      },
      "source": [
        "#data\n",
        "transform = transforms.Compose(\n",
        "    [transforms.ToTensor(),\n",
        "     transforms.Normalize((0.5, 0.5, 0.5), (0.5, 0.5, 0.5))])\n",
        " \n",
        "trainset = torchvision.datasets.CIFAR10(root='./data', train=True,\n",
        "                                        download=True, transform=transform)\n",
        "trainloader = torch.utils.data.DataLoader(trainset, batch_size=4,\n",
        "                                          shuffle=True, num_workers=2)\n",
        " \n",
        "testset = torchvision.datasets.CIFAR10(root='./data', train=False,\n",
        "                                       download=True, transform=transform)\n",
        "testloader = torch.utils.data.DataLoader(testset, batch_size=4,\n",
        "                                         shuffle=False, num_workers=2)\n",
        " \n",
        "classes = ('plane', 'car', 'bird', 'cat',\n",
        "           'deer', 'dog', 'frog', 'horse', 'ship', 'truck')"
      ],
      "execution_count": null,
      "outputs": [
        {
          "output_type": "stream",
          "text": [
            "Files already downloaded and verified\n",
            "Files already downloaded and verified\n"
          ],
          "name": "stdout"
        }
      ]
    },
    {
      "cell_type": "code",
      "metadata": {
        "id": "Cm_HhpVlNBJL"
      },
      "source": [
        "#model\n",
        "class Net(nn.Module):\n",
        "    def __init__(self):\n",
        "        super(Net, self).__init__()\n",
        "        #Conv\n",
        "        self.conv1 = nn.Conv2d(3, 32, 3, padding=1)\n",
        "        self.batchn1 = nn.BatchNorm2d(32)\n",
        "        self.conv2 = nn.Conv2d(32, 64, 3, padding=1)\n",
        "        self.pool = nn.MaxPool2d(2, 2)\n",
        "\n",
        "        self.conv3 = nn.Conv2d(64, 128, 3, padding=1)\n",
        "        self.batchn3 = nn.BatchNorm2d(128)\n",
        "        self.conv4 = nn.Conv2d(128, 128, 3, padding=1)\n",
        "        self.drop2d = nn.Dropout2d(0.05)\n",
        "\n",
        "        self.conv5 = nn.Conv2d(128, 256, 3, padding=1)\n",
        "        self.batchn5 = nn.BatchNorm2d(256)\n",
        "        self.conv6 = nn.Conv2d(256, 256, 3, padding=1)\n",
        "        \n",
        "        #FC\n",
        "        self.fc1 = nn.Linear(4096, 1024)\n",
        "        self.drop = nn.Dropout(0.5)\n",
        "        self.fc2 = nn.Linear(1024, 512)\n",
        "        self.fc3 = nn.Linear(512, 10)\n",
        " \n",
        "    def forward(self, x):\n",
        "        #Conv\n",
        "        x = self.batchn1(F.relu(self.conv1(x)))\n",
        "        x = self.pool(F.relu(self.conv2(x)))\n",
        "\n",
        "        x = self.batchn3(F.relu(self.conv3(x)))\n",
        "        x = self.drop2d(self.pool(F.relu(self.conv4(x))))\n",
        "\n",
        "        x = self.batchn5(F.relu(self.conv5(x)))\n",
        "        x = self.pool(F.relu(self.conv6(x)))\n",
        "\n",
        "        #Flatten\n",
        "        x = x.view(-1, 4096)\n",
        "\n",
        "        #FC\n",
        "        x = F.relu(self.drop(self.fc1(x)))\n",
        "        x = F.relu(self.drop(self.fc2(x)))\n",
        "        x = self.fc3(x)\n",
        "        return x\n",
        " \n",
        "net = Net() #instantiate a net object\n",
        "\n",
        "#cuda\n",
        "net = net.cuda()\n",
        "net = torch.nn.DataParallel(net, device_ids=range(torch.cuda.device_count()))"
      ],
      "execution_count": null,
      "outputs": []
    },
    {
      "cell_type": "code",
      "metadata": {
        "id": "ftpsh2G1NSW7"
      },
      "source": [
        "#loss function and optimizer\n",
        "criterion = nn.CrossEntropyLoss()\n",
        "optimizer = optim.SGD(net.parameters(), lr=0.001, momentum=0.9)"
      ],
      "execution_count": null,
      "outputs": []
    },
    {
      "cell_type": "code",
      "metadata": {
        "id": "3XHkmtZLpZS2"
      },
      "source": [
        "#aux functions\n",
        "def calculateAcc(dataset):\n",
        "    #forward pass to compute test accuracy on every epoch\n",
        "    correct = 0\n",
        "    total = 0\n",
        "    with torch.no_grad():\n",
        "      for data in dataset:\n",
        "        images, labels = data\n",
        "        images = images.cuda()\n",
        "        labels = labels.cuda()\n",
        "        outputs = net(images)\n",
        "        _, predicted = torch.max(outputs.data, 1)\n",
        "        total += labels.size(0)\n",
        "        correct += (predicted == labels).sum().item()\n",
        "        accuracy = 100 * correct / total\n",
        " \n",
        "    return accuracy"
      ],
      "execution_count": null,
      "outputs": []
    },
    {
      "cell_type": "code",
      "metadata": {
        "id": "f7qQwYsCNuJK",
        "outputId": "b210de3e-d6fe-4a55-e989-42e2525653a5",
        "colab": {
          "base_uri": "https://localhost:8080/",
          "height": 760
        }
      },
      "source": [
        "#training and results\n",
        " \n",
        "nepochs = 10;\n",
        "minepochs = 3; #minimum number of epochs before Early Stopping\n",
        " \n",
        "t = time.time()\n",
        "hh = [] #list to save the training loss in every epoch\n",
        "train_ac = [] #list to save the train accuracy in every epoch\n",
        "test_ac = [] #list to save the test accuracy in every epoch\n",
        " \n",
        "for epoch in range(nepochs):  # loop over the dataset multiple times\n",
        " \n",
        "    running_loss = 0.0\n",
        "    for i, data in enumerate(trainloader, 0):\n",
        "        # get the inputs; data is a list of [inputs, labels]\n",
        "        inputs, labels = data\n",
        " \n",
        "        inputs = inputs.cuda()\n",
        "        labels = labels.cuda()\n",
        " \n",
        "        # zero the parameter gradients\n",
        "        optimizer.zero_grad()\n",
        " \n",
        "        # forward + backward + optimize\n",
        "        outputs = net(inputs)\n",
        "        loss = criterion(outputs, labels)\n",
        "        loss.backward()\n",
        "        optimizer.step()\n",
        " \n",
        "        #Accumulate loss:\n",
        "        running_loss += loss.item()\n",
        "    \n",
        "    # Normalizing the loss by the total number of train batches\n",
        "    running_loss /= len(trainloader)\n",
        " \n",
        "    #calculate accuracy for training and test sets\n",
        "    train_accuracy = calculateAcc(trainloader)\n",
        "    test_accuracy = calculateAcc(testloader)\n",
        "    \n",
        "    #save and print loss, train accuracy and test accuracy for every epoch\n",
        "    hh.append(running_loss)\n",
        "    train_ac.append(train_accuracy)\n",
        "    test_ac.append(test_accuracy)\n",
        "    print('[%d] loss: %.3f | Train Accuracy: %.2f %% | Test Accuracy: %.2f %%' % (epoch, running_loss, train_accuracy, test_accuracy)) \n",
        "    \n",
        "    #Early Stopping condition\n",
        "    if (epoch)>=minepochs:\n",
        "      if (test_ac[-1])<=(test_ac[-2]):\n",
        "        if (test_ac[-1])<=(test_ac[-3]):\n",
        "          if (test_ac[-1])<=(test_ac[-4]):\n",
        "            print('Early-Stoping is applied.')\n",
        "            break\n",
        " \n",
        "#when training ends, show a message to inform the time necessary to complete the training\n",
        "elapsed = time.time() - t\n",
        "elapsed = str(datetime.timedelta(seconds=elapsed))\n",
        "print('Finished Training. It took ', elapsed)\n",
        " \n",
        "#plot the training loss function\n",
        "plt.plot(hh, label='Loss')\n",
        "plt.title('Training Cross Entropy Loss')\n",
        "plt.ylabel('')\n",
        "plt.xlabel('Epoch')\n",
        "plt.legend(loc=\"upper left\")\n",
        "plt.show()\n",
        " \n",
        "#plot the test accuracy\n",
        "plt.plot(train_ac, label='Train Accuracy')\n",
        "plt.plot(test_ac, label='Test Accuracy')\n",
        "plt.title('Accuracy')\n",
        "plt.ylabel('')\n",
        "plt.xlabel('Epoch')\n",
        "plt.legend(loc=\"upper left\")\n",
        "plt.show()"
      ],
      "execution_count": null,
      "outputs": [
        {
          "output_type": "stream",
          "text": [
            "[0] loss: 1.440 | Train Accuracy: 63.04 % | Test Accuracy: 61.21 %\n",
            "[1] loss: 0.921 | Train Accuracy: 74.71 % | Test Accuracy: 71.96 %\n",
            "[2] loss: 0.717 | Train Accuracy: 79.92 % | Test Accuracy: 75.05 %\n",
            "[3] loss: 0.590 | Train Accuracy: 83.86 % | Test Accuracy: 78.02 %\n",
            "[4] loss: 0.490 | Train Accuracy: 87.68 % | Test Accuracy: 80.19 %\n",
            "[5] loss: 0.415 | Train Accuracy: 88.95 % | Test Accuracy: 80.58 %\n",
            "[6] loss: 0.354 | Train Accuracy: 91.07 % | Test Accuracy: 80.74 %\n",
            "[7] loss: 0.295 | Train Accuracy: 92.54 % | Test Accuracy: 81.17 %\n",
            "[8] loss: 0.253 | Train Accuracy: 94.01 % | Test Accuracy: 81.35 %\n",
            "[9] loss: 0.213 | Train Accuracy: 94.76 % | Test Accuracy: 81.86 %\n",
            "Finished Training. It took  0:25:51.882888\n"
          ],
          "name": "stdout"
        },
        {
          "output_type": "display_data",
          "data": {
            "image/png": "[encoded data removed]",
            "text/plain": [
              "<Figure size 432x288 with 1 Axes>"
            ]
          },
          "metadata": {
            "tags": [],
            "needs_background": "light"
          }
        },
        {
          "output_type": "display_data",
          "data": {
            "image/png": "[encoded data removed]",
            "text/plain": [
              "<Figure size 432x288 with 1 Axes>"
            ]
          },
          "metadata": {
            "tags": [],
            "needs_background": "light"
          }
        }
      ]
    }
  ]
}